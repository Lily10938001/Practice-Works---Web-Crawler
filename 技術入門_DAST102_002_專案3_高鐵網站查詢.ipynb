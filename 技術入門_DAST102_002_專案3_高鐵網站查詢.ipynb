{
 "cells": [
  {
   "cell_type": "markdown",
   "metadata": {},
   "source": [
    "# Please use POST to find that how many train from \"板橋\" to \"彰化\" at 12:00 today.\n",
    "url: https://www.thsrc.com.tw/ArticleContent/a3b630bb-1066-4352-a1ef-58c7b4e8ef7c"
   ]
  },
  {
   "cell_type": "code",
   "execution_count": 1,
   "metadata": {},
   "outputs": [
    {
     "name": "stdout",
     "output_type": "stream",
     "text": [
      "Train number: 0803, Departure time: 06:15, Destination time: 08:40\n",
      "Train number: 0603, Departure time: 06:40, Destination time: 08:50\n",
      "Train number: 0805, Departure time: 07:00, Destination time: 09:25\n",
      "Train number: 0109, Departure time: 07:20, Destination time: 09:05\n",
      "Train number: 0609, Departure time: 07:35, Destination time: 09:45\n",
      "Train number: 0205, Departure time: 07:40, Destination time: 09:30\n",
      "Train number: 0809, Departure time: 08:00, Destination time: 10:25\n",
      "Train number: 0613, Departure time: 08:10, Destination time: 10:20\n",
      "Train number: 0113, Departure time: 08:20, Destination time: 10:05\n",
      "Train number: 0615, Departure time: 08:35, Destination time: 10:45\n",
      "Train number: 1307, Departure time: 08:50, Destination time: 11:00\n",
      "Train number: 0813, Departure time: 09:00, Destination time: 11:25\n",
      "Train number: 0619, Departure time: 09:10, Destination time: 11:20\n",
      "Train number: 0117, Departure time: 09:20, Destination time: 11:05\n",
      "Train number: 0621, Departure time: 09:35, Destination time: 11:45\n",
      "Train number: 0817, Departure time: 10:00, Destination time: 12:25\n",
      "Train number: 0625, Departure time: 10:10, Destination time: 12:20\n",
      "Train number: 0121, Departure time: 10:20, Destination time: 12:05\n",
      "Train number: 0627, Departure time: 10:35, Destination time: 12:45\n",
      "Train number: 0821, Departure time: 11:00, Destination time: 13:25\n",
      "Train number: 0125, Departure time: 11:20, Destination time: 13:05\n",
      "Train number: 0633, Departure time: 11:35, Destination time: 13:45\n",
      "Train number: 0825, Departure time: 12:00, Destination time: 14:25\n",
      "Train number: 0129, Departure time: 12:20, Destination time: 14:05\n",
      "Train number: 0639, Departure time: 12:35, Destination time: 14:45\n",
      "Train number: 0829, Departure time: 13:00, Destination time: 15:25\n",
      "Train number: 0133, Departure time: 13:20, Destination time: 15:05\n",
      "Train number: 0645, Departure time: 13:35, Destination time: 15:45\n",
      "Train number: 0833, Departure time: 14:00, Destination time: 16:25\n",
      "Train number: 0137, Departure time: 14:20, Destination time: 16:05\n",
      "Train number: 0651, Departure time: 14:35, Destination time: 16:45\n",
      "Train number: 0837, Departure time: 15:00, Destination time: 17:25\n",
      "Train number: 0141, Departure time: 15:20, Destination time: 17:05\n",
      "Train number: 0657, Departure time: 15:35, Destination time: 17:45\n",
      "Train number: 1321, Departure time: 15:50, Destination time: 18:00\n",
      "Train number: 0841, Departure time: 16:00, Destination time: 18:25\n",
      "Train number: 0661, Departure time: 16:10, Destination time: 18:20\n",
      "Train number: 0145, Departure time: 16:20, Destination time: 18:05\n",
      "Train number: 0663, Departure time: 16:35, Destination time: 18:45\n",
      "Train number: 1241, Departure time: 16:40, Destination time: 18:30\n",
      "Train number: 0845, Departure time: 17:00, Destination time: 19:25\n",
      "Train number: 0667, Departure time: 17:10, Destination time: 19:20\n",
      "Train number: 0149, Departure time: 17:20, Destination time: 19:05\n",
      "Train number: 0669, Departure time: 17:35, Destination time: 19:45\n",
      "Train number: 0849, Departure time: 18:00, Destination time: 20:25\n",
      "Train number: 0673, Departure time: 18:10, Destination time: 20:20\n",
      "Train number: 0153, Departure time: 18:20, Destination time: 20:05\n",
      "Train number: 0675, Departure time: 18:35, Destination time: 20:45\n",
      "Train number: 0249, Departure time: 18:40, Destination time: 20:30\n",
      "Train number: 0853, Departure time: 19:00, Destination time: 21:25\n",
      "Train number: 0157, Departure time: 19:20, Destination time: 21:05\n",
      "Train number: 0681, Departure time: 19:35, Destination time: 21:45\n",
      "Train number: 0857, Departure time: 20:00, Destination time: 22:25\n",
      "Train number: 0161, Departure time: 20:20, Destination time: 22:05\n",
      "Train number: 0687, Departure time: 20:35, Destination time: 22:45\n",
      "Train number: 0861, Departure time: 21:00, Destination time: 23:25\n",
      "Train number: 0165, Departure time: 21:20, Destination time: 23:05\n",
      "Train number: 0693, Departure time: 21:30, Destination time: 23:40\n",
      "Train number: 0333, Departure time: 21:45, Destination time: 23:55\n",
      "Train number: 0295, Departure time: 22:05, Destination time: 23:59\n"
     ]
    }
   ],
   "source": [
    "# -*- coding: utf-8 -*-\n",
    "import requests\n",
    "from bs4 import BeautifulSoup\n",
    "import json\n",
    "\n",
    "payload = {\n",
    "\n",
    "\"SearchType\":\"S\",\n",
    "\"Lang\":\"TW\",\n",
    "\"StartStation\":\"NanGang\",\n",
    "\"EndStation\":\"ZuoYing\",\n",
    "\"OutWardSearchDate\":\"2021/05/12\",\n",
    "\"OutWardSearchTime\":\"15:00\",\n",
    "\"ReturnSearchDate\":\"2021/05/12\",\n",
    "\"ReturnSearchTime\":\"15:00\",\n",
    "\"DiscountType\":\"\"\n",
    "    \n",
    "}\n",
    "\n",
    "\n",
    "url = 'https://www.thsrc.com.tw/TimeTable/Search'\n",
    "response = requests.post(url, data = payload)\n",
    "\n",
    "#print(response.text)\n",
    "result = json.loads(response.text)\n",
    "\n",
    "#print(result['data']['DepartureTable']['TrainItem'])\n",
    "for i in result['data']['DepartureTable']['TrainItem']:\n",
    "    print('Train number: {}, Departure time: {}, Destination time: {}'.format(i['TrainNumber'], i['DepartureTime'], i['DestinationTime']))\n"
   ]
  },
  {
   "cell_type": "code",
   "execution_count": null,
   "metadata": {},
   "outputs": [],
   "source": []
  }
 ],
 "metadata": {
  "kernelspec": {
   "display_name": "Python 3",
   "language": "python",
   "name": "python3"
  },
  "language_info": {
   "codemirror_mode": {
    "name": "ipython",
    "version": 3
   },
   "file_extension": ".py",
   "mimetype": "text/x-python",
   "name": "python",
   "nbconvert_exporter": "python",
   "pygments_lexer": "ipython3",
   "version": "3.8.10"
  }
 },
 "nbformat": 4,
 "nbformat_minor": 4
}
