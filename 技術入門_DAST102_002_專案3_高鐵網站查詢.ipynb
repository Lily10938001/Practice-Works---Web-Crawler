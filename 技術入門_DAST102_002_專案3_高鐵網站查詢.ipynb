{
 "cells": [
  {
   "cell_type": "markdown",
   "metadata": {},
   "source": [
    "# Please use POST to find that how many train from \"板橋\" to \"彰化\" at 12:00 today.\n",
    "url: https://www.thsrc.com.tw/ArticleContent/a3b630bb-1066-4352-a1ef-58c7b4e8ef7c"
   ]
  },
  {
   "cell_type": "code",
   "execution_count": 8,
   "metadata": {},
   "outputs": [
    {
     "name": "stdout",
     "output_type": "stream",
     "text": [
      "Train number: 0803, Departure time: 06:34, Destination time: 07:44\n",
      "Train number: 0805, Departure time: 07:19, Destination time: 08:27\n",
      "Train number: 0809, Departure time: 08:19, Destination time: 09:29\n",
      "Train number: 0813, Departure time: 09:19, Destination time: 10:29\n",
      "Train number: 0817, Departure time: 10:19, Destination time: 11:29\n",
      "Train number: 0821, Departure time: 11:19, Destination time: 12:29\n",
      "Train number: 0825, Departure time: 12:19, Destination time: 13:29\n",
      "Train number: 0829, Departure time: 13:19, Destination time: 14:29\n",
      "Train number: 0833, Departure time: 14:19, Destination time: 15:29\n",
      "Train number: 0837, Departure time: 15:19, Destination time: 16:29\n",
      "Train number: 0841, Departure time: 16:19, Destination time: 17:29\n",
      "Train number: 0845, Departure time: 17:19, Destination time: 18:29\n",
      "Train number: 0849, Departure time: 18:19, Destination time: 19:27\n",
      "Train number: 0853, Departure time: 19:19, Destination time: 20:29\n",
      "Train number: 0857, Departure time: 20:19, Destination time: 21:29\n",
      "Train number: 0861, Departure time: 21:19, Destination time: 22:29\n"
     ]
    }
   ],
   "source": [
    "# -*- coding: utf-8 -*-\n",
    "import requests\n",
    "from bs4 import BeautifulSoup\n",
    "import json\n",
    "\n",
    "payload = {\n",
    "\n",
    "\"SearchType\":\"S\",\n",
    "\"Lang\":\"TW\",\n",
    "\"StartStation\":\"BanQiao\",\n",
    "\"EndStation\":\"ZhangHua\",\n",
    "\"OutWardSearchDate\":\"2021/11/02\",\n",
    "\"OutWardSearchTime\":\"12:00\",\n",
    "\"ReturnSearchDate\":\"2021/11/02\",\n",
    "\"ReturnSearchTime\":\"00:30\",\n",
    "\"DiscountType\":\"\"\n",
    "    \n",
    "}\n",
    "\n",
    "\n",
    "url = 'https://www.thsrc.com.tw/TimeTable/Search'\n",
    "response = requests.post(url, data = payload)\n",
    "\n",
    "#print(response.text)\n",
    "result = json.loads(response.text)\n",
    "\n",
    "#print(result['data']['DepartureTable']['TrainItem'])\n",
    "for i in result['data']['DepartureTable']['TrainItem']:\n",
    "    print('Train number: {}, Departure time: {}, Destination time: {}'.format(i['TrainNumber'], i['DepartureTime'], i['DestinationTime']))\n"
   ]
  },
  {
   "cell_type": "code",
   "execution_count": null,
   "metadata": {},
   "outputs": [],
   "source": []
  },
  {
   "cell_type": "code",
   "execution_count": null,
   "metadata": {},
   "outputs": [],
   "source": []
  }
 ],
 "metadata": {
  "kernelspec": {
   "display_name": "Python 3",
   "language": "python",
   "name": "python3"
  },
  "language_info": {
   "codemirror_mode": {
    "name": "ipython",
    "version": 3
   },
   "file_extension": ".py",
   "mimetype": "text/x-python",
   "name": "python",
   "nbconvert_exporter": "python",
   "pygments_lexer": "ipython3",
   "version": "3.8.10"
  }
 },
 "nbformat": 4,
 "nbformat_minor": 4
}
